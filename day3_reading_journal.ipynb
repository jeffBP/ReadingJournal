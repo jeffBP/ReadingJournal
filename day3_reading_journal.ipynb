{
 "cells": [
  {
   "cell_type": "markdown",
   "metadata": {},
   "source": [
    "# Day 3 Reading Journal\n",
    "\n",
    "This journal includes several required exercises, but it is meant to encourage active reading more generally.  You should use the journal to take detailed notes, catalog questions, and explore the content from Think Python deeply.\n",
    "\n",
    "Reading: Think Python Chapter 8, 10.1-10.6\n",
    "\n",
    "**Due: Thursday, January 26 at noon**\n",
    "\n"
   ]
  },
  {
   "cell_type": "markdown",
   "metadata": {},
   "source": [
    "## [Chapter 8](http://www.greenteapress.com/thinkpython2/html/thinkpython2009.html)\n",
    "\n",
    "Note: the exercise numbers below match up with the reading for ease of cross referencing."
   ]
  },
  {
   "cell_type": "markdown",
   "metadata": {},
   "source": [
    "### Chapter 8.3  \n",
    "\n",
    "Write a function that takes a string as an argument and displays the letters backward, one per line."
   ]
  },
  {
   "cell_type": "code",
   "execution_count": 7,
   "metadata": {
    "collapsed": false
   },
   "outputs": [
    {
     "name": "stdout",
     "output_type": "stream",
     "text": [
      "t\n",
      "i\n",
      "n\n",
      "u\n"
     ]
    }
   ],
   "source": [
    "def backwards(s):\n",
    "    \"\"\"\n",
    "    This function takes input string (s) and prints it backwards, one letter per line\n",
    "    \n",
    "    >>> backwards('unit')\n",
    "    t\n",
    "    i\n",
    "    n\n",
    "    u\n",
    "    \"\"\"\n",
    "    \n",
    "    for i in range(len(s)):\n",
    "        print(s[len(s)-i-1])\n",
    "\n",
    "backwards('unit')"
   ]
  },
  {
   "cell_type": "markdown",
   "metadata": {},
   "source": [
    "**Challenge (optional):** Write a function that translates words into [Pig Latin](https://en.wikipedia.org/wiki/Pig_Latin). \n",
    "\n",
    "**Challenge to the challenge**: Write a function that translates back into English."
   ]
  },
  {
   "cell_type": "code",
   "execution_count": 58,
   "metadata": {
    "collapsed": false
   },
   "outputs": [
    {
     "name": "stdout",
     "output_type": "stream",
     "text": [
      "every\n",
      "start\n",
      "oftwares\n"
     ]
    }
   ],
   "source": [
    "def pig_latin(word):\n",
    "    \"\"\"\n",
    "    Return given 'word' translated into Pig Latin\n",
    "    \n",
    "    >>> pig_latin(\"software\")\n",
    "    'oftwaresay'\n",
    "    \"\"\"\n",
    "    firstLetter = word[0]\n",
    "    if isVowel(firstLetter):\n",
    "        return word + 'ay'\n",
    "    else:\n",
    "        return word[1:] + firstLetter + 'ay'\n",
    "\n",
    "\n",
    "def isVowel(char):\n",
    "    \"\"\"\n",
    "    This function takes in character char and checks to see if it is a vowel\n",
    "    \n",
    "    >>> isVowel('a')\n",
    "    True\n",
    "    \n",
    "    >>> isVowel('x')\n",
    "    False\n",
    "    \"\"\"\n",
    "    return (char == 'a' or char == 'e' or char == 'i' or char == 'o' or char =='u')\n",
    "\n",
    "def un_pig_latin(word):\n",
    "    \"\"\"\n",
    "    This function takes in String word and translates it out of pig_latin. \n",
    "    Not quite working with piglatin that starts with vowels\n",
    "    \n",
    "    >>> un_pig_latin('everyay')\n",
    "    every\n",
    "    \n",
    "    >>> un_pig_latin('oftwaresay')\n",
    "    software\n",
    "    \n",
    "    >>> un_pig_latin('software')\n",
    "    That's not pig latin!\n",
    "    \"\"\"\n",
    "    \n",
    "    if not(word[len(word)-2:] == 'ay'):\n",
    "        return 'That\\'s not pig latin!'\n",
    "    elif isVowel(word[0]):\n",
    "        return word[:len(word)-2]\n",
    "    else:\n",
    "        return word[len(word)-3] + word[:len(word)-3]\n",
    "\n",
    "# If you'd like to actually run the doctests here, you can uncomment the lines below.\n",
    "# We use this slightly more complex method to test only the pig_latin function, without running tests on any other functions that may be in this notebook.\n",
    "import doctest\n",
    "doctest.run_docstring_examples(pig_latin, globals())\n",
    "\n",
    "print(un_pig_latin('everyay'))\n",
    "print(un_pig_latin('tartsay'))\n",
    "print(un_pig_latin('oftwaresay'))\n"
   ]
  },
  {
   "cell_type": "markdown",
   "metadata": {},
   "source": [
    "### Chapter 8.7\n",
    "Encapsulate the character counting code in a fruitful function named `count` that accepts the string and the letter as arguments and returns the count."
   ]
  },
  {
   "cell_type": "code",
   "execution_count": 35,
   "metadata": {
    "collapsed": false
   },
   "outputs": [
    {
     "data": {
      "text/plain": [
       "6"
      ]
     },
     "execution_count": 35,
     "metadata": {},
     "output_type": "execute_result"
    }
   ],
   "source": [
    "def count(word, letter):\n",
    "    \"\"\"\n",
    "    This function takes accepts a string word and checks to see\n",
    "    how many times it contains character char.\n",
    "    \n",
    "    >>> count('i', 'i')\n",
    "    1\n",
    "    \n",
    "    >>> count('x', 'i')\n",
    "    0\n",
    "    \"\"\"\n",
    "    count = 0\n",
    "    for i in range(len(word)-1):\n",
    "        if word[i] == letter:\n",
    "            count = count + 1\n",
    "    return count\n",
    "\n",
    "count('iiiiiii', 'i')\n",
    "\n"
   ]
  },
  {
   "cell_type": "markdown",
   "metadata": {},
   "source": [
    "### Exercise 8.1\n",
    "Skim the documentation of the Python [string methods](http://docs.python.org/3/library/stdtypes.html#string-methods). Play with them to make sure you understand how they work-- strip, replace, and upper/lower are particularly useful. Show us some of your experiments."
   ]
  },
  {
   "cell_type": "code",
   "execution_count": 21,
   "metadata": {
    "collapsed": false
   },
   "outputs": [
    {
     "name": "stdout",
     "output_type": "stream",
     "text": [
      "Banana\n",
      "                                     banana                                     \n",
      "False\n",
      "1\n",
      "2\n",
      "True\n",
      "False\n",
      "bananabananabanana\n",
      "nana\n"
     ]
    }
   ],
   "source": [
    "print('banana'.capitalize())\n",
    "print('banana'.center(80))\n",
    "print('banana'.endswith('x'))\n",
    "print('banana'.find('a'))\n",
    "print('banana'.index('na'))\n",
    "print('banana'.isalpha())\n",
    "print('Banana'.islower())\n",
    "print('banana'.join(['banana', 'banana']))\n",
    "print('banana'.lstrip('bgha'))"
   ]
  },
  {
   "cell_type": "markdown",
   "metadata": {},
   "source": [
    "### Exercise 8.4  \n",
    "\n",
    "The following functions are all intended to check whether a string contains any lowercase letters, but at least some of them are wrong. For each function, describe what the function actually does (assuming that the parameter is a string)."
   ]
  },
  {
   "cell_type": "code",
   "execution_count": null,
   "metadata": {
    "collapsed": true
   },
   "outputs": [],
   "source": [
    "def any_lowercase1(s):\n",
    "    for c in s:\n",
    "        if c.islower():\n",
    "            return True\n",
    "        else:\n",
    "            return False"
   ]
  },
  {
   "cell_type": "markdown",
   "metadata": {},
   "source": [
    "This function looks at the first character of a string. If it is lowercase, it returns true. Otherwise it returns false. There is no need for the else case. If the for loop detects a lower case value, return True. Have a \"return False\" after the for loop in case it doesn't detect any lowercase values"
   ]
  },
  {
   "cell_type": "markdown",
   "metadata": {},
   "source": [
    " "
   ]
  },
  {
   "cell_type": "code",
   "execution_count": null,
   "metadata": {
    "collapsed": true
   },
   "outputs": [],
   "source": [
    "def any_lowercase2(s):\n",
    "    for c in s:\n",
    "        if 'c'.islower():\n",
    "            return 'True'\n",
    "        else:\n",
    "            return 'False'"
   ]
  },
  {
   "cell_type": "markdown",
   "metadata": {},
   "source": [
    "This function will always return true. It is only checking if the character 'c' is lowercase. Also it is returning strings instead of a boolean"
   ]
  },
  {
   "cell_type": "markdown",
   "metadata": {},
   "source": [
    " "
   ]
  },
  {
   "cell_type": "code",
   "execution_count": null,
   "metadata": {
    "collapsed": true
   },
   "outputs": [],
   "source": [
    "def any_lowercase3(s):\n",
    "    for c in s:\n",
    "        flag = c.islower()\n",
    "    return flag"
   ]
  },
  {
   "cell_type": "markdown",
   "metadata": {},
   "source": [
    "The problem with this is flag is never initialized. a \"flag = False\" line must be put in at the beginning of the function in order for it to work. Also it will only check the last character in the string. The for loop re-sets the value of flag every loop"
   ]
  },
  {
   "cell_type": "markdown",
   "metadata": {},
   "source": [
    " "
   ]
  },
  {
   "cell_type": "code",
   "execution_count": null,
   "metadata": {
    "collapsed": true
   },
   "outputs": [],
   "source": [
    "def any_lowercase4(s):\n",
    "    flag = False\n",
    "    for c in s:\n",
    "        flag = flag or c.islower()\n",
    "    return flag"
   ]
  },
  {
   "cell_type": "markdown",
   "metadata": {},
   "source": [
    "This should work. "
   ]
  },
  {
   "cell_type": "markdown",
   "metadata": {},
   "source": [
    " "
   ]
  },
  {
   "cell_type": "code",
   "execution_count": null,
   "metadata": {
    "collapsed": true
   },
   "outputs": [],
   "source": [
    "def any_lowercase5(s):\n",
    "    for c in s:\n",
    "        if not c.islower():\n",
    "            return False\n",
    "    return True"
   ]
  },
  {
   "cell_type": "markdown",
   "metadata": {},
   "source": [
    "This function will check to see if every character in the string is lowercase. as soon as it detects one that is not lowercase, it will return false. "
   ]
  },
  {
   "cell_type": "markdown",
   "metadata": {},
   "source": [
    " "
   ]
  },
  {
   "cell_type": "markdown",
   "metadata": {},
   "source": [
    "## [Chapter 10.1 - 10.6](http://www.greenteapress.com/thinkpython2/html/thinkpython2011.html)\n",
    "\n",
    "You may want to review [state diagrams in Chapter 2](http://www.greenteapress.com/thinkpython2/html/thinkpython2003.html#toc13).\n",
    "\n"
   ]
  },
  {
   "cell_type": "markdown",
   "metadata": {},
   "source": [
    "**Quick check:** What type of items can be placed in a list?"
   ]
  },
  {
   "cell_type": "markdown",
   "metadata": {},
   "source": [
    "Any type of value. Values in a list are called elements"
   ]
  },
  {
   "cell_type": "markdown",
   "metadata": {},
   "source": [
    "**Quick check:** Give at least one similarity and one difference between lists and strings."
   ]
  },
  {
   "cell_type": "markdown",
   "metadata": {},
   "source": []
  },
  {
   "cell_type": "markdown",
   "metadata": {},
   "source": [
    "### Exercise\n",
    "\n",
    "Write a Python function named `average` that takes a list of numbers and returns their arithmetic mean."
   ]
  },
  {
   "cell_type": "code",
   "execution_count": 46,
   "metadata": {
    "collapsed": false
   },
   "outputs": [
    {
     "name": "stdout",
     "output_type": "stream",
     "text": [
      "0\n",
      "1\n",
      "2\n",
      "3\n",
      "4\n",
      "5\n",
      "6\n"
     ]
    },
    {
     "data": {
      "text/plain": [
       "4.0"
      ]
     },
     "execution_count": 46,
     "metadata": {},
     "output_type": "execute_result"
    }
   ],
   "source": [
    "def average(nums):\n",
    "    \"\"\"\n",
    "    This function accepts list of numbers nums and returns the\n",
    "    average of the numbers in the list\n",
    "    \n",
    "    >>> average([1, 1, 1])\n",
    "    1\n",
    "    \"\"\"\n",
    "    sum = 0\n",
    "    for i in range(len(nums)):\n",
    "        sum = sum + nums[i]\n",
    "        print(i)\n",
    "    return sum/len(nums)\n",
    "\n",
    "average([1, 2, 3, 4, 5, 6, 7])"
   ]
  },
  {
   "cell_type": "markdown",
   "metadata": {},
   "source": [
    "### Exercise\n",
    "You own a restaurant, and you need to keep up with the latest food fads or risk losing your fickle customers. You decide to write a Python function that adds the hot new ingredient _du jour_ to each of your regular menu items and returns the trendy new menu."
   ]
  },
  {
   "cell_type": "code",
   "execution_count": 54,
   "metadata": {
    "collapsed": false
   },
   "outputs": [
    {
     "data": {
      "text/plain": [
       "['burger with kale', 'salad with kale']"
      ]
     },
     "execution_count": 54,
     "metadata": {},
     "output_type": "execute_result"
    }
   ],
   "source": [
    "def add_ingredient(menu, ingredient):\n",
    "    \"\"\"\n",
    "    Given a list of string 'menu' items and a trendy 'ingredient' string of the day,\n",
    "    return a new menu list of strings with the ingredient added to each.\n",
    "    \n",
    "    >>> add_ingredient([\"burger\", \"salad\", \"ice cream\"], \"kale\")\n",
    "    ['burger with kale', 'salad with kale', 'ice cream with kale']\n",
    "    \n",
    "    \"\"\"\n",
    "    for i in range(len(menu)):\n",
    "        menu[i] = menu[i] + ' with ' + ingredient\n",
    "        \n",
    "    return menu\n",
    "    \n",
    "add_ingredient(['burger', 'salad'], \"kale\")\n",
    "    \n",
    "\n",
    "# Running doctests in jupyter notebook:\n",
    "# If you'd like to actually run the doctests here, you can uncomment the lines below.\n",
    "# We use this slightly more complex method to test only the add_ingredient function,\n",
    "# without running tests on any other functions that may be in this notebook.\n",
    "\n",
    "#import doctest\n",
    "#doctest.run_docstring_examples(add_ingredient, globals(), verbose=True)"
   ]
  },
  {
   "cell_type": "markdown",
   "metadata": {},
   "source": [
    "## Quick poll\n",
    "About how long did you spend working on this reading journal?"
   ]
  },
  {
   "cell_type": "markdown",
   "metadata": {},
   "source": [
    "about an hour"
   ]
  },
  {
   "cell_type": "markdown",
   "metadata": {},
   "source": [
    "## Reading Journal feedback\n",
    "\n",
    "Have any comments on this Reading Journal? Feel free to leave them below and we'll read them when you submit your journal entry. This could include suggestions to improve the exercises, topics you'd like to see covered in class next time, or other feedback.\n",
    "\n",
    "If you have Python questions or run into problems while completing the reading, you should post them to Piazza instead so you can get a quick response before your journal is submitted."
   ]
  },
  {
   "cell_type": "markdown",
   "metadata": {},
   "source": []
  },
  {
   "cell_type": "markdown",
   "metadata": {},
   "source": [
    " "
   ]
  }
 ],
 "metadata": {
  "kernelspec": {
   "display_name": "Python 3",
   "language": "python",
   "name": "python3"
  },
  "language_info": {
   "codemirror_mode": {
    "name": "ipython",
    "version": 3
   },
   "file_extension": ".py",
   "mimetype": "text/x-python",
   "name": "python",
   "nbconvert_exporter": "python",
   "pygments_lexer": "ipython3",
   "version": "3.5.2"
  }
 },
 "nbformat": 4,
 "nbformat_minor": 0
}
