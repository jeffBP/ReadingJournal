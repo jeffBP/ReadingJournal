{
 "cells": [
  {
   "cell_type": "markdown",
   "metadata": {},
   "source": [
    "# Day 2 Reading Journal\n",
    "\n",
    "This journal includes several required exercises, but it is meant to encourage active reading more generally.  You should use the journal to take detailed notes, catalog questions, and explore the content from Think Python deeply.\n",
    "\n",
    "Reading: Think Python Chapter 6.1-6.4, 7\n",
    "\n",
    "**Due: Tuesday, January 24 at 12 noon**\n",
    "\n"
   ]
  },
  {
   "cell_type": "markdown",
   "metadata": {},
   "source": [
    "## [Chapter 6.1-6.4](http://greenteapress.com/thinkpython2/html/thinkpython2007.html)\n",
    "\n",
    "Note: the exercise numbers below match up with the reading for ease of cross referencing."
   ]
  },
  {
   "cell_type": "markdown",
   "metadata": {},
   "source": [
    "**Quick check:** What is a _fruitful function_?"
   ]
  },
  {
   "cell_type": "markdown",
   "metadata": {},
   "source": [
    "A fruitful function is a function that returns a value when it is run.  "
   ]
  },
  {
   "cell_type": "markdown",
   "metadata": {},
   "source": [
    "### Chapter 6.1 \n",
    "Write a `compare` function that returns `1` if `x > y`, `0` if `x == y`, and `-1` if `x < y`."
   ]
  },
  {
   "cell_type": "code",
   "execution_count": 1,
   "metadata": {
    "collapsed": false
   },
   "outputs": [
    {
     "data": {
      "text/plain": [
       "-1"
      ]
     },
     "execution_count": 1,
     "metadata": {},
     "output_type": "execute_result"
    }
   ],
   "source": [
    "def compare(x, y):\n",
    "    if x>y:\n",
    "        return 1\n",
    "    elif x == y:\n",
    "        return 0\n",
    "    else:\n",
    "        return -1\n",
    "    \n",
    "compare(1, 2)"
   ]
  },
  {
   "cell_type": "markdown",
   "metadata": {},
   "source": [
    "**Quick check:** Modify the `absolute_value` function so that it returns the correct result for all integer inputs."
   ]
  },
  {
   "cell_type": "code",
   "execution_count": 8,
   "metadata": {
    "collapsed": false
   },
   "outputs": [
    {
     "data": {
      "text/plain": [
       "0"
      ]
     },
     "execution_count": 8,
     "metadata": {},
     "output_type": "execute_result"
    }
   ],
   "source": [
    "def absolute_value(x):\n",
    "    if x < 0:\n",
    "        return -x\n",
    "    if x > 0:\n",
    "        return x\n",
    "    if x == 0:\n",
    "        return 0\n",
    "    \n",
    "absolute_value(0)"
   ]
  },
  {
   "cell_type": "markdown",
   "metadata": {},
   "source": [
    "### Chapter 6.2 \n",
    "Use incremental development to write a function called `hypotenuse` that returns the length of the hypotenuse of a right triangle given the lengths of the two legs as arguments. Record each stage of the development process as you go, using as many cells as you need."
   ]
  },
  {
   "cell_type": "code",
   "execution_count": 2,
   "metadata": {
    "collapsed": false
   },
   "outputs": [
    {
     "data": {
      "text/plain": [
       "0"
      ]
     },
     "execution_count": 2,
     "metadata": {},
     "output_type": "execute_result"
    }
   ],
   "source": [
    "import math\n",
    "def hypoteneuse(leg1, leg2):\n",
    "    return 0\n",
    "\n",
    "hypoteneuse(1, 1)"
   ]
  },
  {
   "cell_type": "code",
   "execution_count": 3,
   "metadata": {
    "collapsed": false
   },
   "outputs": [
    {
     "data": {
      "text/plain": [
       "2"
      ]
     },
     "execution_count": 3,
     "metadata": {},
     "output_type": "execute_result"
    }
   ],
   "source": [
    "import math\n",
    "def hypoteneuse(leg1, leg2):\n",
    "    return leg1**2 + leg2**2\n",
    "\n",
    "hypoteneuse(1, 1)"
   ]
  },
  {
   "cell_type": "code",
   "execution_count": 4,
   "metadata": {
    "collapsed": false
   },
   "outputs": [
    {
     "data": {
      "text/plain": [
       "1.4142135623730951"
      ]
     },
     "execution_count": 4,
     "metadata": {},
     "output_type": "execute_result"
    }
   ],
   "source": [
    "import math\n",
    "def hypoteneuse(leg1, leg2):\n",
    "    return math.sqrt(leg1**2 + leg2**2)\n",
    "\n",
    "hypoteneuse(1, 1)"
   ]
  },
  {
   "cell_type": "markdown",
   "metadata": {},
   "source": [
    "### Chapter 6.4\n",
    "Write a function `is_between(x, y, z)` that returns `True` if `x ≤ y ≤ z` or `False` otherwise."
   ]
  },
  {
   "cell_type": "code",
   "execution_count": 14,
   "metadata": {
    "collapsed": false
   },
   "outputs": [
    {
     "name": "stdout",
     "output_type": "stream",
     "text": [
      "True\n",
      "False\n"
     ]
    }
   ],
   "source": [
    "def is_between(x, y, z):\n",
    "    return (x<=y and y<=z)\n",
    "\n",
    "print(is_between(1, 2, 3))\n",
    "print(is_between(1, 2, 1))"
   ]
  },
  {
   "cell_type": "markdown",
   "metadata": {},
   "source": [
    "## [Chapter 7](http://greenteapress.com/thinkpython2/html/thinkpython2008.html)\n",
    "\n"
   ]
  },
  {
   "cell_type": "markdown",
   "metadata": {},
   "source": [
    "**Quick check:** How do you test for equality in Python?"
   ]
  },
  {
   "cell_type": "markdown",
   "metadata": {},
   "source": [
    "If you have value $a$ and value $b$, $a$ == $b$ will return true if both values are equal, and false if they are not. "
   ]
  },
  {
   "cell_type": "markdown",
   "metadata": {},
   "source": [
    "**Challenge:** Prove/disprove the Collatz conjecture :)"
   ]
  },
  {
   "cell_type": "code",
   "execution_count": 5,
   "metadata": {
    "collapsed": false,
    "scrolled": false
   },
   "outputs": [
    {
     "name": "stdout",
     "output_type": "stream",
     "text": [
      "3335\n",
      "10006\n",
      "5003.0\n",
      "15010.0\n",
      "7505.0\n",
      "22516.0\n",
      "11258.0\n",
      "5629.0\n",
      "16888.0\n",
      "8444.0\n",
      "4222.0\n",
      "2111.0\n",
      "6334.0\n",
      "3167.0\n",
      "9502.0\n",
      "4751.0\n",
      "14254.0\n",
      "7127.0\n",
      "21382.0\n",
      "10691.0\n",
      "32074.0\n",
      "16037.0\n",
      "48112.0\n",
      "24056.0\n",
      "12028.0\n",
      "6014.0\n",
      "3007.0\n",
      "9022.0\n",
      "4511.0\n",
      "13534.0\n",
      "6767.0\n",
      "20302.0\n",
      "10151.0\n",
      "30454.0\n",
      "15227.0\n",
      "45682.0\n",
      "22841.0\n",
      "68524.0\n",
      "34262.0\n",
      "17131.0\n",
      "51394.0\n",
      "25697.0\n",
      "77092.0\n",
      "38546.0\n",
      "19273.0\n",
      "57820.0\n",
      "28910.0\n",
      "14455.0\n",
      "43366.0\n",
      "21683.0\n",
      "65050.0\n",
      "32525.0\n",
      "97576.0\n",
      "48788.0\n",
      "24394.0\n",
      "12197.0\n",
      "36592.0\n",
      "18296.0\n",
      "9148.0\n",
      "4574.0\n",
      "2287.0\n",
      "6862.0\n",
      "3431.0\n",
      "10294.0\n",
      "5147.0\n",
      "15442.0\n",
      "7721.0\n",
      "23164.0\n",
      "11582.0\n",
      "5791.0\n",
      "17374.0\n",
      "8687.0\n",
      "26062.0\n",
      "13031.0\n",
      "39094.0\n",
      "19547.0\n",
      "58642.0\n",
      "29321.0\n",
      "87964.0\n",
      "43982.0\n",
      "21991.0\n",
      "65974.0\n",
      "32987.0\n",
      "98962.0\n",
      "49481.0\n",
      "148444.0\n",
      "74222.0\n",
      "37111.0\n",
      "111334.0\n",
      "55667.0\n",
      "167002.0\n",
      "83501.0\n",
      "250504.0\n",
      "125252.0\n",
      "62626.0\n",
      "31313.0\n",
      "93940.0\n",
      "46970.0\n",
      "23485.0\n",
      "70456.0\n",
      "35228.0\n",
      "17614.0\n",
      "8807.0\n",
      "26422.0\n",
      "13211.0\n",
      "39634.0\n",
      "19817.0\n",
      "59452.0\n",
      "29726.0\n",
      "14863.0\n",
      "44590.0\n",
      "22295.0\n",
      "66886.0\n",
      "33443.0\n",
      "100330.0\n",
      "50165.0\n",
      "150496.0\n",
      "75248.0\n",
      "37624.0\n",
      "18812.0\n",
      "9406.0\n",
      "4703.0\n",
      "14110.0\n",
      "7055.0\n",
      "21166.0\n",
      "10583.0\n",
      "31750.0\n",
      "15875.0\n",
      "47626.0\n",
      "23813.0\n",
      "71440.0\n",
      "35720.0\n",
      "17860.0\n",
      "8930.0\n",
      "4465.0\n",
      "13396.0\n",
      "6698.0\n",
      "3349.0\n",
      "10048.0\n",
      "5024.0\n",
      "2512.0\n",
      "1256.0\n",
      "628.0\n",
      "314.0\n",
      "157.0\n",
      "472.0\n",
      "236.0\n",
      "118.0\n",
      "59.0\n",
      "178.0\n",
      "89.0\n",
      "268.0\n",
      "134.0\n",
      "67.0\n",
      "202.0\n",
      "101.0\n",
      "304.0\n",
      "152.0\n",
      "76.0\n",
      "38.0\n",
      "19.0\n",
      "58.0\n",
      "29.0\n",
      "88.0\n",
      "44.0\n",
      "22.0\n",
      "11.0\n",
      "34.0\n",
      "17.0\n",
      "52.0\n",
      "26.0\n",
      "13.0\n",
      "40.0\n",
      "20.0\n",
      "10.0\n",
      "5.0\n",
      "16.0\n",
      "8.0\n",
      "4.0\n",
      "2.0\n",
      "1.0\n"
     ]
    }
   ],
   "source": [
    "def collatz(n):\n",
    "    print(n)\n",
    "    if (n%2) == 0:\n",
    "        n = n/2\n",
    "    else:\n",
    "        n = 3*n + 1\n",
    "    if not(n==1):\n",
    "        collatz(n)\n",
    "    else:\n",
    "        print(n)\n",
    "    \n",
    "\n",
    "collatz(3335)"
   ]
  },
  {
   "cell_type": "markdown",
   "metadata": {},
   "source": [
    "https://en.wikipedia.org/wiki/Collatz_conjecture\n",
    "\n",
    "I can write a function to do a Collatz, but asking me to prove or disprove this is waaaaaaaaaaaay beyond the scope of this class"
   ]
  },
  {
   "cell_type": "markdown",
   "metadata": {},
   "source": [
    "### Chapter 7.5\n",
    "Encapsulate the loop from Section 7.5 in a function called `square_root` that takes `a` as a parameter, chooses a reasonable value of `x`, and returns an estimate of the square root of `a`."
   ]
  },
  {
   "cell_type": "code",
   "execution_count": 5,
   "metadata": {
    "collapsed": false
   },
   "outputs": [],
   "source": [
    "def square_root(a):\n",
    "    epsilon = 1e-30\n",
    "    x = a/2\n",
    "    while True: \n",
    "        y = ((x + a/x)/2)\n",
    "        \n",
    "        if abs(y-x) < epsilon:\n",
    "            break\n",
    "        x = y\n",
    "    return x"
   ]
  },
  {
   "cell_type": "markdown",
   "metadata": {},
   "source": [
    "### Exercise 7.1  \n",
    "To test the square root algorithm you developed in Exercise 2, you could compare it with Python's `math.sqrt` function. Write a function named `test_square_root` that prints a table like this:\n",
    "\n",
    "```python\n",
    "1.0 1.0           1.0           0.0\n",
    "2.0 1.41421356237 1.41421356237 2.22044604925e-16\n",
    "3.0 1.73205080757 1.73205080757 0.0\n",
    "4.0 2.0           2.0           0.0\n",
    "5.0 2.2360679775  2.2360679775  0.0\n",
    "6.0 2.44948974278 2.44948974278 0.0\n",
    "7.0 2.64575131106 2.64575131106 0.0\n",
    "8.0 2.82842712475 2.82842712475 4.4408920985e-16\n",
    "9.0 3.0           3.0           0.0\n",
    "```\n",
    "\n",
    "The first column is a number, `a`; the second column is the square root of a computed with the function from Section 7.5; the third column is the square root computed by `math.sqrt`; the fourth column is the absolute value of the difference between the two estimates."
   ]
  },
  {
   "cell_type": "code",
   "execution_count": 7,
   "metadata": {
    "collapsed": false
   },
   "outputs": [
    {
     "name": "stdout",
     "output_type": "stream",
     "text": [
      "1.0                 1.0                 1.0                 0.0\n",
      "2.0                 1.414213562373095   1.4142135623730951  2.220446049250313e-16\n",
      "3.0                 1.7320508075688772  1.7320508075688772  0.0\n",
      "4.0                 2.0                 2.0                 0.0\n",
      "5.0                 2.23606797749979    2.23606797749979    0.0\n",
      "6.0                 2.449489742783178   2.449489742783178   0.0\n",
      "7.0                 2.6457513110645907  2.6457513110645907  0.0\n",
      "8.0                 2.82842712474619    2.8284271247461903  4.440892098500626e-16\n",
      "9.0                 3.0                 3.0                 0.0\n"
     ]
    }
   ],
   "source": [
    "import math\n",
    "def test_square_root():\n",
    "    n = 1.0\n",
    "    while n < 10:\n",
    "        mySq = square_root(n)\n",
    "        pSq = math.sqrt(n)\n",
    "        diff = abs(mySq - pSq)\n",
    "        print(str(n) + ' '*(20-len(str(n))) + str(mySq) + ' '*(20-len(str(mySq))) + str(pSq) + ' '*(20-len(str(pSq))) + str(diff))\n",
    "        n = n + 1\n",
    "        \n",
    "test_square_root()\n",
    "    "
   ]
  },
  {
   "cell_type": "markdown",
   "metadata": {},
   "source": [
    "### Challenge: Exercise 7.3  (optional)\n",
    "The mathematician Srinivasa Ramanujan found an infinite series that can be used to generate a numerical approximation of\n",
    "$\\frac{1}{\\pi}$:\n",
    "\n",
    "$$\\frac{1}{\\pi} = \\frac{2 \\sqrt{2}}{9801} \\sum_{k=0}^{\\infty} \\frac{(4k)! (1103+26390k)}{(k!)^4 396^{4k}}$$\n",
    " \n",
    "Write a function called `estimate_pi` that uses this formula to compute and return an estimate of $\\pi$. It should use a `while` loop to compute terms of the summation until the last term is smaller than `1e-15` (which is Python notation for $10^{−15}$). You can check the result by comparing it to `math.pi`.\n",
    "\n",
    "[Possible solution](http://thinkpython.com/code/pi.py) (give the exercise a try before viewing the solution)"
   ]
  },
  {
   "cell_type": "code",
   "execution_count": 34,
   "metadata": {
    "collapsed": false
   },
   "outputs": [
    {
     "name": "stdout",
     "output_type": "stream",
     "text": [
      "0.31830987844047015\n",
      "0.31830988618379064\n"
     ]
    },
    {
     "data": {
      "text/plain": [
       "(0.31830988618379064, 5.551115123125783e-17, 1)"
      ]
     },
     "execution_count": 34,
     "metadata": {},
     "output_type": "execute_result"
    }
   ],
   "source": [
    "import math\n",
    "def factorial(n):\n",
    "    if(n == 0):\n",
    "        return 1\n",
    "    else:\n",
    "        return n*factorial(n-1)\n",
    "    \n",
    "def estimate_pi():\n",
    "    epsilon = 1e-15\n",
    "    pi = math.pi\n",
    "    invPi = (1/pi)\n",
    "    const = 2*math.sqrt(2)/9801\n",
    "    estimate = 0\n",
    "    loops = 0\n",
    "    summation = 0\n",
    "    diff = invPi - estimate\n",
    "    while (abs(diff) > epsilon):\n",
    "        summation = summation + (factorial(4*loops)*(1103+26390*loops))/((factorial(loops)**4)*396**(4*loops))\n",
    "        estimate = const*summation\n",
    "        print(estimate)\n",
    "        diff = invPi - estimate\n",
    "        loops = loops + 1\n",
    "    return estimate, diff, loops-1\n",
    "\n",
    "estimate_pi()\n",
    "    "
   ]
  },
  {
   "cell_type": "markdown",
   "metadata": {},
   "source": [
    "## Quick poll\n",
    "\n",
    "About how long did you spend working on this Reading Journal?"
   ]
  },
  {
   "cell_type": "markdown",
   "metadata": {},
   "source": [
    "2 hours ish. "
   ]
  },
  {
   "cell_type": "markdown",
   "metadata": {},
   "source": [
    "## Reading Journal feedback\n",
    "\n",
    "Have any comments on this Reading Journal? Feel free to leave them below and we'll read them when you submit your journal entry. This could include suggestions to improve the exercises, topics you'd like to see covered in class next time, or other feedback.\n",
    "\n",
    "If you have Python questions or run into problems while completing the reading, you should post them to Piazza instead so you can get a quick response before your journal is submitted."
   ]
  },
  {
   "cell_type": "markdown",
   "metadata": {},
   "source": []
  },
  {
   "cell_type": "markdown",
   "metadata": {},
   "source": [
    " "
   ]
  }
 ],
 "metadata": {
  "kernelspec": {
   "display_name": "Python 3",
   "language": "python",
   "name": "python3"
  },
  "language_info": {
   "codemirror_mode": {
    "name": "ipython",
    "version": 3
   },
   "file_extension": ".py",
   "mimetype": "text/x-python",
   "name": "python",
   "nbconvert_exporter": "python",
   "pygments_lexer": "ipython3",
   "version": "3.5.2"
  }
 },
 "nbformat": 4,
 "nbformat_minor": 0
}
